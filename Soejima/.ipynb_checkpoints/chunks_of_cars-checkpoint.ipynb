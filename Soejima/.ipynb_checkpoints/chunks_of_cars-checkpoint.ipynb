{
 "cells": [
  {
   "cell_type": "code",
   "execution_count": 14,
   "metadata": {
    "collapsed": false
   },
   "outputs": [
    {
     "data": {
      "text/plain": [
       "Plots.PyPlotBackend()"
      ]
     },
     "execution_count": 14,
     "metadata": {},
     "output_type": "execute_result"
    }
   ],
   "source": [
    "using LinearAlgebra\n",
    "using NLsolve\n",
    "using Roots\n",
    "using Plots\n",
    "pyplot()"
   ]
  },
  {
   "cell_type": "code",
   "execution_count": 10,
   "metadata": {
    "collapsed": false
   },
   "outputs": [
    {
     "ename": "LoadError",
     "evalue": "syntax: extra token \"using\" after end of expression",
     "output_type": "error",
     "traceback": [
      "syntax: extra token \"using\" after end of expression",
      ""
     ]
    }
   ],
   "source": [
    "function f₀(v)\n",
    "    if 10^-5< v < 1+10^-5\n",
    "        return 1\n",
    "    else\n",
    "        return 0\n",
    "    end\n",
    "end\n",
    "\n",
    "function L(v)\n",
    "    if 1+10^-5>v>10^-5\n",
    "        return (v-10^-5)\n",
    "    elseif v>1+10^-5\n",
    "        return 1using LinearAlgebra\n",
    "using NLsolve\n",
    "using Roots\n",
    "using Plots\n",
    "    else\n",
    "        return 0\n",
    "    end\n",
    "end\n",
    "\n",
    "function L̃(v)\n",
    "    return L(1/v)\n",
    "end\n",
    "\n",
    "function return_v()\n",
    "    a = rand()\n",
    "    find_zero(v->L(v)-a,10^-5)\n",
    "end\n",
    "\n",
    "Δt = 1\n",
    "Length = 1"
   ]
  },
  {
   "cell_type": "markdown",
   "metadata": {},
   "source": [
    "Generate a sequence of cars and ask what the size of the chunk is"
   ]
  },
  {
   "cell_type": "code",
   "execution_count": 11,
   "metadata": {
    "collapsed": false
   },
   "outputs": [
    {
     "data": {
      "text/plain": [
       "N₁_seq (generic function with 1 method)"
      ]
     },
     "execution_count": 11,
     "metadata": {},
     "output_type": "execute_result"
    }
   ],
   "source": [
    "function chunk_average(Length,N)\n",
    "    N₁ = zeros(Int64,N)\n",
    "    for i in 1:N\n",
    "        N₁[i] = chunk_size(Length)\n",
    "    end\n",
    "    max = maximum(N₁)\n",
    "    average = sum(N₁)/N\n",
    "    variance = sqrt(sum(N₁.^2))/N\n",
    "    return average,variance,max\n",
    "end\n",
    "\n",
    "function chunk_size(Length)\n",
    "    v₁ = return_v()\n",
    "    return N₁_seq(v₁,Length)\n",
    "end\n",
    "\n",
    "function N₁_seq(v₁,Length)\n",
    "    n = 1\n",
    "    while true\n",
    "        vᵢ = return_v()\n",
    "        if vᵢ>L̃(1/v₁ - n/Length)\n",
    "            n += 1\n",
    "        else\n",
    "            return n\n",
    "        end\n",
    "    end\n",
    "end"
   ]
  },
  {
   "cell_type": "code",
   "execution_count": 6,
   "metadata": {
    "collapsed": false
   },
   "outputs": [
    {
     "data": {
      "text/plain": [
       "(4.042, 0.6722365655035436, 421)"
      ]
     },
     "execution_count": 6,
     "metadata": {},
     "output_type": "execute_result"
    }
   ],
   "source": [
    "chunk_average(Length,1000)"
   ]
  },
  {
   "cell_type": "code",
   "execution_count": 12,
   "metadata": {
    "collapsed": false
   },
   "outputs": [
    {
     "data": {
      "text/plain": [
       "N₁_prob (generic function with 1 method)"
      ]
     },
     "execution_count": 12,
     "metadata": {},
     "output_type": "execute_result"
    }
   ],
   "source": [
    "function N₁_prob(v,Length)\n",
    "    N = 0\n",
    "    curprod = 1\n",
    "    for m in 1:(Int(round(Length/v))+1)\n",
    "        N += curprod\n",
    "        curprod *= (1-L̃(1/v - m/Length))\n",
    "    end\n",
    "    return N\n",
    "end"
   ]
  },
  {
   "cell_type": "code",
   "execution_count": 18,
   "metadata": {
    "collapsed": false
   },
   "outputs": [
    {
     "data": {
      "text/plain": [
       "N₁_average (generic function with 1 method)"
      ]
     },
     "execution_count": 18,
     "metadata": {},
     "output_type": "execute_result"
    }
   ],
   "source": [
    "function N₁_average(v,Length)\n",
    "    g = 0\n",
    "    for i in 1:100\n",
    "        g += N₁_seq(v,Length)\n",
    "    end\n",
    "return g/100\n",
    "end"
   ]
  },
  {
   "cell_type": "code",
   "execution_count": null,
   "metadata": {
    "collapsed": false
   },
   "outputs": [],
   "source": [
    "f1_prob(v) = N₁_prob(v,1)\n",
    "f1_ave(v) = N₁_average(v,1)\n",
    "\n",
    "v = 10^-5:0.01:1+10^-5\n",
    "\n",
    "y1_prob = f1_prob.(v)\n",
    "y1_ave = f1_ave.(v)\n",
    "plot(v,y1_prob)\n",
    "plot!(v,y1_ave)"
   ]
  },
  {
   "cell_type": "code",
   "execution_count": null,
   "metadata": {
    "collapsed": true
   },
   "outputs": [],
   "source": []
  }
 ],
 "metadata": {
  "anaconda-cloud": {},
  "kernelspec": {
   "display_name": "Julia 0.7.0",
   "language": "julia",
   "name": "julia-0.7"
  },
  "language_info": {
   "file_extension": ".jl",
   "mimetype": "application/julia",
   "name": "julia",
   "version": "0.7.0"
  }
 },
 "nbformat": 4,
 "nbformat_minor": 1
}
